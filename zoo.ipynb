{
 "cells": [
  {
   "cell_type": "code",
   "execution_count": null,
   "id": "45f593f2-75b6-4f85-8b88-0a08801ec155",
   "metadata": {},
   "outputs": [],
   "source": [
    "\"\"\"\n",
    "Author: Regine Benton\n",
    "Module 4 Programming Assignment - Modules and Databases\n",
    "zoo.py\n",
    "\"\"\"\n",
    "def hours():\n",
    "    print('Open 9-5 daily')\n",
    "\n",
    "\"\"\"\n",
    "11.1 Python Interpreter\n",
    ">>> import zoo\n",
    ">>> zoo.hours() \n",
    "Open 9-5 daily\n",
    "\"\"\"\n",
    "\n",
    "\"\"\"\n",
    "11.2 Python Interpreter\n",
    ">>> import zoo as menagerie\n",
    ">>> menagerie.hours()      \n",
    "Open 9-5 daily\n",
    "\"\"\""
   ]
  }
 ],
 "metadata": {
  "kernelspec": {
   "display_name": "Python 3 (ipykernel)",
   "language": "python",
   "name": "python3"
  },
  "language_info": {
   "codemirror_mode": {
    "name": "ipython",
    "version": 3
   },
   "file_extension": ".py",
   "mimetype": "text/x-python",
   "name": "python",
   "nbconvert_exporter": "python",
   "pygments_lexer": "ipython3",
   "version": "3.12.7"
  }
 },
 "nbformat": 4,
 "nbformat_minor": 5
}
